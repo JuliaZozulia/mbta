{
 "cells": [
  {
   "cell_type": "code",
   "execution_count": 1,
   "metadata": {},
   "outputs": [],
   "source": [
    "from google.transit import gtfs_realtime_pb2\n",
    "import urllib\n",
    "import datetime\n",
    "import time\n",
    "import pandas as pd\n",
    "import numpy as np\n",
    "import csv"
   ]
  },
  {
   "cell_type": "code",
   "execution_count": 2,
   "metadata": {},
   "outputs": [],
   "source": [
    "def write_header(columns_names, file_name):\n",
    "    with open(file_name, mode='w') as file:\n",
    "        wr = csv.writer(file, dialect='excel')\n",
    "        wr.writerow(columns_names)"
   ]
  },
  {
   "cell_type": "code",
   "execution_count": 3,
   "metadata": {},
   "outputs": [],
   "source": [
    "header_updates = [\n",
    "    \"feed_time\",\n",
    "    \"trip_id\",\n",
    "    \"vehicle_id\",\n",
    "    \"start_time\",\n",
    "    \"start_date\",\n",
    "    \"route_id\",\n",
    "    \"direction_id\",\n",
    "    \"stop_id\",\n",
    "    \"stop_sequence\",\n",
    "    \"schedule_relationship\",\n",
    "    \"arrival_time\",\n",
    "    \"arrival_uncertainty\",\n",
    "    \"departure_time\",\n",
    "    \"depature_uncertainty\",\n",
    "]\n",
    "\n",
    "write_header(header_updates, \"trip_updates.txt\")\n",
    "\n",
    "header_positions = [\n",
    "    \"feed_time\",\n",
    "    \"trip_id\",\n",
    "    \"vehicle.id\",\n",
    "    \"start_time\",\n",
    "    \"start_date\",\n",
    "    \"route_id\",\n",
    "    \"direction_id\",\n",
    "    \"schedule_relationship\",\n",
    "    \"latitude\",\n",
    "    \"longitude\",\n",
    "    \"bearing\",\n",
    "    \"stop_id\",\n",
    "    \"current_stop_sequence\",\n",
    "    \"current_status\",\n",
    "    \"timestamp\",\n",
    "]\n",
    "\n",
    "write_header(header_positions, \"vehicle_positions.txt\")"
   ]
  },
  {
   "cell_type": "code",
   "execution_count": 4,
   "metadata": {},
   "outputs": [],
   "source": [
    "def get_feed(url):\n",
    "    feed = gtfs_realtime_pb2.FeedMessage()\n",
    "    response = urllib.request.urlopen(url)\n",
    "    feed.ParseFromString(response.read())\n",
    "    return feed"
   ]
  },
  {
   "cell_type": "code",
   "execution_count": 5,
   "metadata": {},
   "outputs": [],
   "source": [
    "def write_feed_to_csv(feed, file_name, is_position, ts):\n",
    "    file = open(file_name, mode=\"a\")\n",
    "    wr = csv.writer(file, dialect=\"excel\")\n",
    "\n",
    "    if is_position:\n",
    "        for item in feed.entity:\n",
    "            vehicle = item.vehicle\n",
    "            record = [\n",
    "                ts,\n",
    "                vehicle.trip.trip_id,\n",
    "                vehicle.vehicle.id,\n",
    "                vehicle.trip.start_time,\n",
    "                vehicle.trip.start_date,\n",
    "                vehicle.trip.route_id,\n",
    "                vehicle.trip.direction_id,\n",
    "                vehicle.trip.schedule_relationship,\n",
    "                vehicle.position.latitude,\n",
    "                vehicle.position.longitude,\n",
    "                vehicle.position.bearing,\n",
    "                vehicle.stop_id,\n",
    "                vehicle.current_stop_sequence,\n",
    "                vehicle.current_status,\n",
    "                vehicle.timestamp,\n",
    "            ]\n",
    "            wr.writerow(record)\n",
    "    else:\n",
    "        for trip in feed.entity:\n",
    "            for stop in trip.trip_update.stop_time_update:\n",
    "                record = [\n",
    "                    ts,\n",
    "                    trip.id,\n",
    "                    trip.trip_update.vehicle.id,\n",
    "                    trip.trip_update.trip.start_time,\n",
    "                    trip.trip_update.trip.start_date,\n",
    "                    trip.trip_update.trip.route_id,\n",
    "                    trip.trip_update.trip.direction_id,\n",
    "                    stop.stop_id,\n",
    "                    stop.stop_sequence,\n",
    "                    stop.schedule_relationship,\n",
    "                    stop.arrival.time,\n",
    "                    stop.arrival.uncertainty,\n",
    "                    stop.departure.time,\n",
    "                    stop.departure.uncertainty,\n",
    "                ]\n",
    "                wr.writerow(record)\n",
    "    file.close()"
   ]
  },
  {
   "cell_type": "code",
   "execution_count": 6,
   "metadata": {},
   "outputs": [],
   "source": [
    "url_positions = 'https://cdn.mbta.com/realtime/VehiclePositions.pb'\n",
    "url_updates = 'https://cdn.mbta.com/realtime/TripUpdates.pb'"
   ]
  },
  {
   "cell_type": "code",
   "execution_count": null,
   "metadata": {},
   "outputs": [],
   "source": [
    "while True:\n",
    "    feed_positions = get_feed(url_positions)\n",
    "    feed_updates = get_feed(url_updates)\n",
    "    ts = datetime.datetime.now().timestamp()\n",
    "    write_feed_to_csv(\n",
    "        feed=feed_positions, file_name=\"vehicle_positions.txt\", is_position=True, ts=ts\n",
    "    )\n",
    "\n",
    "    write_feed_to_csv(\n",
    "        feed=feed_updates, file_name=\"trip_updates.txt\", is_position=False, ts=ts\n",
    "    )\n",
    "    time.sleep(15)"
   ]
  },
  {
   "cell_type": "code",
   "execution_count": null,
   "metadata": {},
   "outputs": [],
   "source": []
  },
  {
   "cell_type": "code",
   "execution_count": null,
   "metadata": {},
   "outputs": [],
   "source": []
  },
  {
   "cell_type": "code",
   "execution_count": null,
   "metadata": {},
   "outputs": [],
   "source": []
  }
 ],
 "metadata": {
  "kernelspec": {
   "display_name": "Python 3",
   "language": "python",
   "name": "python3"
  },
  "language_info": {
   "codemirror_mode": {
    "name": "ipython",
    "version": 3
   },
   "file_extension": ".py",
   "mimetype": "text/x-python",
   "name": "python",
   "nbconvert_exporter": "python",
   "pygments_lexer": "ipython3",
   "version": "3.7.4"
  }
 },
 "nbformat": 4,
 "nbformat_minor": 2
}
